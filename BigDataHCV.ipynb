{
  "nbformat": 4,
  "nbformat_minor": 0,
  "metadata": {
    "colab": {
      "provenance": [],
      "mount_file_id": "https://github.com/11jolek11/BigDataHCVproject/blob/main/BigDataHCV.ipynb",
      "authorship_tag": "ABX9TyNX9E51FJMtEGXVhRcLsKu7",
      "include_colab_link": true
    },
    "kernelspec": {
      "name": "python3",
      "display_name": "Python 3"
    },
    "language_info": {
      "name": "python"
    }
  },
  "cells": [
    {
      "cell_type": "markdown",
      "metadata": {
        "id": "view-in-github",
        "colab_type": "text"
      },
      "source": [
        "<a href=\"https://colab.research.google.com/github/11jolek11/BigDataHCVproject/blob/SMOTE/BigDataHCV.ipynb\" target=\"_parent\"><img src=\"https://colab.research.google.com/assets/colab-badge.svg\" alt=\"Open In Colab\"/></a>"
      ]
    },
    {
      "cell_type": "code",
      "execution_count": 206,
      "metadata": {
        "id": "YZ3QTzRCbILP",
        "outputId": "15bc2c74-e3b9-4558-e782-b10332a8dbfd",
        "colab": {
          "base_uri": "https://localhost:8080/",
          "height": 34
        }
      },
      "outputs": [
        {
          "output_type": "stream",
          "name": "stdout",
          "text": [
            "Warning: Cannot change to a different GUI toolkit: widget. Using notebook instead.\n"
          ]
        }
      ],
      "source": [
        "!pip install -q imbalanced-learn\n",
        "import matplotlib.pyplot as plt\n",
        "%matplotlib widget\n",
        "# /content/drive/MyDrive/Colab Notebooks/datasets/hcvdat0.csv"
      ]
    },
    {
      "cell_type": "code",
      "source": [
        "import pandas as pd\n",
        "import seaborn as sns\n",
        "import numpy as np\n",
        "import sklearn\n",
        "from sklearn.preprocessing import LabelEncoder, StandardScaler\n",
        "# TODO: KNN imputer może nie być najlepszym wyborem\n",
        "from sklearn.experimental import enable_iterative_imputer\n",
        "from sklearn.impute import KNNImputer, IterativeImputer\n",
        "from sklearn.discriminant_analysis import LinearDiscriminantAnalysis as LDA\n",
        "from sklearn.pipeline import Pipeline\n",
        "from sklearn.decomposition import PCA\n",
        "from sklearn.model_selection import train_test_split\n",
        "\n",
        "# SMOTE\n",
        "from imblearn.over_sampling import SMOTE\n",
        "from imblearn.over_sampling import ADASYN\n",
        "from imblearn.combine import SMOTEENN"
      ],
      "metadata": {
        "id": "D0ojxHF-i_7j"
      },
      "execution_count": 231,
      "outputs": []
    },
    {
      "cell_type": "code",
      "source": [
        "# hcv = pd.read_csv('/content/drive/MyDrive/Colab Notebooks/datasets/hcvdat0.csv', header=0)\n",
        "hcv = pd.read_csv('/content/drive/MyDrive/Colab Notebooks/datasets/hcvdat0.csv', header=0)\n",
        "hcv[hcv.isna().any(axis=1)]\n",
        "print()"
      ],
      "metadata": {
        "id": "Pe_Wjyf9lNdP",
        "outputId": "d2899b6c-c2a9-44c7-e0f8-87fff77a6d9b",
        "colab": {
          "base_uri": "https://localhost:8080/",
          "height": 34
        }
      },
      "execution_count": 208,
      "outputs": [
        {
          "output_type": "stream",
          "name": "stdout",
          "text": [
            "\n"
          ]
        }
      ]
    },
    {
      "cell_type": "code",
      "source": [
        "np.unique(hcv[\"Category\"])"
      ],
      "metadata": {
        "id": "WepggyWG3Buq",
        "outputId": "66f77a8e-aab6-49dd-ccda-7c8b1cb735ac",
        "colab": {
          "base_uri": "https://localhost:8080/",
          "height": 52
        }
      },
      "execution_count": 209,
      "outputs": [
        {
          "output_type": "execute_result",
          "data": {
            "text/plain": [
              "array(['0=Blood Donor', '0s=suspect Blood Donor', '1=Hepatitis',\n",
              "       '2=Fibrosis', '3=Cirrhosis'], dtype=object)"
            ]
          },
          "metadata": {},
          "execution_count": 209
        }
      ]
    },
    {
      "cell_type": "code",
      "source": [
        "hcv.replace('1=Hepatitis', '1=HCV', inplace=True)\n",
        "hcv.replace('2=Fibrosis', '1=HCV', inplace=True)\n",
        "hcv.replace('3=Cirrhosis', '1=HCV', inplace=True)"
      ],
      "metadata": {
        "id": "28o8ae5kBNwP"
      },
      "execution_count": 210,
      "outputs": []
    },
    {
      "cell_type": "code",
      "source": [
        "hcv[\"Category\"].value_counts()"
      ],
      "metadata": {
        "id": "yqXHuJ3SkIFq",
        "outputId": "fb109b76-a6af-48f2-9e20-6279a5448724",
        "colab": {
          "base_uri": "https://localhost:8080/",
          "height": 86
        }
      },
      "execution_count": 211,
      "outputs": [
        {
          "output_type": "execute_result",
          "data": {
            "text/plain": [
              "0=Blood Donor             533\n",
              "1=HCV                      75\n",
              "0s=suspect Blood Donor      7\n",
              "Name: Category, dtype: int64"
            ]
          },
          "metadata": {},
          "execution_count": 211
        }
      ]
    },
    {
      "cell_type": "code",
      "source": [
        "# indexes_to_delete = hcv.index[hcv[\"Category\"] == \"0=Blood Donor\"]\n",
        "# drop_indices = np.random.choice(indexes_to_delete, 200, replace=False)\n",
        "# hcv.drop(drop_indices, inplace=True)\n",
        "hcv.drop(hcv[hcv[\"Category\"] == '0s=suspect Blood Donor'].index, inplace=True)"
      ],
      "metadata": {
        "id": "TjAma6lEisno"
      },
      "execution_count": 212,
      "outputs": []
    },
    {
      "cell_type": "code",
      "source": [
        "hcv[\"Category\"].value_counts()"
      ],
      "metadata": {
        "id": "26MQt7o5kQ5j",
        "outputId": "7f4b5419-3e96-4ecd-fbc2-076755d39495",
        "colab": {
          "base_uri": "https://localhost:8080/",
          "height": 69
        }
      },
      "execution_count": 213,
      "outputs": [
        {
          "output_type": "execute_result",
          "data": {
            "text/plain": [
              "0=Blood Donor    533\n",
              "1=HCV             75\n",
              "Name: Category, dtype: int64"
            ]
          },
          "metadata": {},
          "execution_count": 213
        }
      ]
    },
    {
      "cell_type": "code",
      "source": [
        "sns.countplot(x=hcv[\"Category\"])"
      ],
      "metadata": {
        "id": "syX6uX5pLLTh",
        "outputId": "77bc7892-4d4f-43e7-99b5-5b8219bd3978",
        "colab": {
          "base_uri": "https://localhost:8080/",
          "height": 34
        }
      },
      "execution_count": 214,
      "outputs": [
        {
          "output_type": "execute_result",
          "data": {
            "text/plain": [
              "<Axes: xlabel='Category', ylabel='count'>"
            ]
          },
          "metadata": {},
          "execution_count": 214
        }
      ]
    },
    {
      "cell_type": "code",
      "source": [
        "# sns.heatmap(hcv.corr(), annot=True, cmap='rainbow')"
      ],
      "metadata": {
        "id": "B-81O41Df0iz"
      },
      "execution_count": 215,
      "outputs": []
    },
    {
      "cell_type": "code",
      "source": [
        "encoder = LabelEncoder()\n",
        "hcv[\"Sex\"] = encoder.fit_transform(hcv[\"Sex\"])\n",
        "hcv[\"Category\"] = encoder.fit_transform(hcv[\"Category\"])"
      ],
      "metadata": {
        "id": "y7A0cChtiY_c"
      },
      "execution_count": 216,
      "outputs": []
    },
    {
      "cell_type": "code",
      "source": [
        "imputer = IterativeImputer(max_iter=10, random_state=0).set_output(transform=\"pandas\")\n",
        "hcv = imputer.fit_transform(hcv)\n",
        "hcv[hcv.isna().any(axis=1)]"
      ],
      "metadata": {
        "id": "NnpH5TvThfPJ",
        "colab": {
          "base_uri": "https://localhost:8080/",
          "height": 49
        },
        "outputId": "b48ce133-5bf9-4103-8e07-1e93d8cbeaf5"
      },
      "execution_count": 228,
      "outputs": [
        {
          "output_type": "execute_result",
          "data": {
            "text/plain": [
              "Empty DataFrame\n",
              "Columns: [Unnamed: 0, Age, Sex, ALB, ALP, ALT, AST, BIL, CHE, CHOL, CREA, GGT, PROT]\n",
              "Index: []"
            ],
            "text/html": [
              "\n",
              "  <div id=\"df-76d7fe50-2353-457c-8c54-93ce8c0f10f1\">\n",
              "    <div class=\"colab-df-container\">\n",
              "      <div>\n",
              "<style scoped>\n",
              "    .dataframe tbody tr th:only-of-type {\n",
              "        vertical-align: middle;\n",
              "    }\n",
              "\n",
              "    .dataframe tbody tr th {\n",
              "        vertical-align: top;\n",
              "    }\n",
              "\n",
              "    .dataframe thead th {\n",
              "        text-align: right;\n",
              "    }\n",
              "</style>\n",
              "<table border=\"1\" class=\"dataframe\">\n",
              "  <thead>\n",
              "    <tr style=\"text-align: right;\">\n",
              "      <th></th>\n",
              "      <th>Unnamed: 0</th>\n",
              "      <th>Age</th>\n",
              "      <th>Sex</th>\n",
              "      <th>ALB</th>\n",
              "      <th>ALP</th>\n",
              "      <th>ALT</th>\n",
              "      <th>AST</th>\n",
              "      <th>BIL</th>\n",
              "      <th>CHE</th>\n",
              "      <th>CHOL</th>\n",
              "      <th>CREA</th>\n",
              "      <th>GGT</th>\n",
              "      <th>PROT</th>\n",
              "    </tr>\n",
              "  </thead>\n",
              "  <tbody>\n",
              "  </tbody>\n",
              "</table>\n",
              "</div>\n",
              "      <button class=\"colab-df-convert\" onclick=\"convertToInteractive('df-76d7fe50-2353-457c-8c54-93ce8c0f10f1')\"\n",
              "              title=\"Convert this dataframe to an interactive table.\"\n",
              "              style=\"display:none;\">\n",
              "        \n",
              "  <svg xmlns=\"http://www.w3.org/2000/svg\" height=\"24px\"viewBox=\"0 0 24 24\"\n",
              "       width=\"24px\">\n",
              "    <path d=\"M0 0h24v24H0V0z\" fill=\"none\"/>\n",
              "    <path d=\"M18.56 5.44l.94 2.06.94-2.06 2.06-.94-2.06-.94-.94-2.06-.94 2.06-2.06.94zm-11 1L8.5 8.5l.94-2.06 2.06-.94-2.06-.94L8.5 2.5l-.94 2.06-2.06.94zm10 10l.94 2.06.94-2.06 2.06-.94-2.06-.94-.94-2.06-.94 2.06-2.06.94z\"/><path d=\"M17.41 7.96l-1.37-1.37c-.4-.4-.92-.59-1.43-.59-.52 0-1.04.2-1.43.59L10.3 9.45l-7.72 7.72c-.78.78-.78 2.05 0 2.83L4 21.41c.39.39.9.59 1.41.59.51 0 1.02-.2 1.41-.59l7.78-7.78 2.81-2.81c.8-.78.8-2.07 0-2.86zM5.41 20L4 18.59l7.72-7.72 1.47 1.35L5.41 20z\"/>\n",
              "  </svg>\n",
              "      </button>\n",
              "      \n",
              "  <style>\n",
              "    .colab-df-container {\n",
              "      display:flex;\n",
              "      flex-wrap:wrap;\n",
              "      gap: 12px;\n",
              "    }\n",
              "\n",
              "    .colab-df-convert {\n",
              "      background-color: #E8F0FE;\n",
              "      border: none;\n",
              "      border-radius: 50%;\n",
              "      cursor: pointer;\n",
              "      display: none;\n",
              "      fill: #1967D2;\n",
              "      height: 32px;\n",
              "      padding: 0 0 0 0;\n",
              "      width: 32px;\n",
              "    }\n",
              "\n",
              "    .colab-df-convert:hover {\n",
              "      background-color: #E2EBFA;\n",
              "      box-shadow: 0px 1px 2px rgba(60, 64, 67, 0.3), 0px 1px 3px 1px rgba(60, 64, 67, 0.15);\n",
              "      fill: #174EA6;\n",
              "    }\n",
              "\n",
              "    [theme=dark] .colab-df-convert {\n",
              "      background-color: #3B4455;\n",
              "      fill: #D2E3FC;\n",
              "    }\n",
              "\n",
              "    [theme=dark] .colab-df-convert:hover {\n",
              "      background-color: #434B5C;\n",
              "      box-shadow: 0px 1px 3px 1px rgba(0, 0, 0, 0.15);\n",
              "      filter: drop-shadow(0px 1px 2px rgba(0, 0, 0, 0.3));\n",
              "      fill: #FFFFFF;\n",
              "    }\n",
              "  </style>\n",
              "\n",
              "      <script>\n",
              "        const buttonEl =\n",
              "          document.querySelector('#df-76d7fe50-2353-457c-8c54-93ce8c0f10f1 button.colab-df-convert');\n",
              "        buttonEl.style.display =\n",
              "          google.colab.kernel.accessAllowed ? 'block' : 'none';\n",
              "\n",
              "        async function convertToInteractive(key) {\n",
              "          const element = document.querySelector('#df-76d7fe50-2353-457c-8c54-93ce8c0f10f1');\n",
              "          const dataTable =\n",
              "            await google.colab.kernel.invokeFunction('convertToInteractive',\n",
              "                                                     [key], {});\n",
              "          if (!dataTable) return;\n",
              "\n",
              "          const docLinkHtml = 'Like what you see? Visit the ' +\n",
              "            '<a target=\"_blank\" href=https://colab.research.google.com/notebooks/data_table.ipynb>data table notebook</a>'\n",
              "            + ' to learn more about interactive tables.';\n",
              "          element.innerHTML = '';\n",
              "          dataTable['output_type'] = 'display_data';\n",
              "          await google.colab.output.renderOutput(dataTable, element);\n",
              "          const docLink = document.createElement('div');\n",
              "          docLink.innerHTML = docLinkHtml;\n",
              "          element.appendChild(docLink);\n",
              "        }\n",
              "      </script>\n",
              "    </div>\n",
              "  </div>\n",
              "  "
            ]
          },
          "metadata": {},
          "execution_count": 228
        }
      ]
    },
    {
      "cell_type": "code",
      "source": [
        "hcv.shape"
      ],
      "metadata": {
        "id": "7W7d7s97G7HE",
        "outputId": "442ee683-e6ac-4a1f-eefd-3def028b6a14",
        "colab": {
          "base_uri": "https://localhost:8080/",
          "height": 34
        }
      },
      "execution_count": 229,
      "outputs": [
        {
          "output_type": "execute_result",
          "data": {
            "text/plain": [
              "(608, 13)"
            ]
          },
          "metadata": {},
          "execution_count": 229
        }
      ]
    },
    {
      "cell_type": "code",
      "source": [
        "hcv_target = hcv[\"Category\"]\n",
        "hcv.drop(columns=[\"Category\"], inplace=True)"
      ],
      "metadata": {
        "id": "xrBB4M6El1l8"
      },
      "execution_count": 224,
      "outputs": []
    },
    {
      "cell_type": "code",
      "source": [
        "std_scaler = StandardScaler()\n",
        "smote = SMOTE()\n",
        "adasyn = ADASYN()"
      ],
      "metadata": {
        "id": "3hQAT2d6KVkQ"
      },
      "execution_count": null,
      "outputs": []
    },
    {
      "cell_type": "code",
      "source": [
        "x_train, x_test, y_train, y_test = train_test_split(hcv, hcv_target, stratify=hcv_target)"
      ],
      "metadata": {
        "id": "_YKw4pBPHfqv"
      },
      "execution_count": 232,
      "outputs": []
    },
    {
      "cell_type": "code",
      "source": [
        "\n",
        "# pca_pipeline = Pipeline(\n",
        "#     [\n",
        "#       ('scaler', StandardScaler()),\n",
        "#       ('pca_dim_reduction', PCA(n_components=2)),\n",
        "#     ]\n",
        "# )\n",
        "\n",
        "# hcv_pca = pd.DataFrame(pca_pipeline.fit_transform(hcv), columns = ['pca1', 'pca2'])\n",
        "# sns.scatterplot(data=hcv_pca, x='pca1', y='pca2', hue=hcv_target)"
      ],
      "metadata": {
        "id": "j3byG5O5rfGo"
      },
      "execution_count": 225,
      "outputs": []
    },
    {
      "cell_type": "code",
      "source": [
        "# from mpl_toolkits.mplot3d import Axes3D\n",
        "\n",
        "\n",
        "# pca_pipeline = Pipeline(\n",
        "#     [\n",
        "#         # działa!!!!!!!!!!!!!!!!!!!!\n",
        "#       ('scaler', StandardScaler()),\n",
        "#       ('pca_dim_reduction', PCA(n_components=3)),\n",
        "#     ]\n",
        "# )\n",
        "\n",
        "# hcv_pca = pd.DataFrame(pca_pipeline.fit_transform(hcv), columns = ['pca1', 'pca2', 'pca3'])\n",
        "# sns.scatterplot(data=hcv_pca, x='pca1', y='pca2', hue=hcv_target)\n",
        "\n",
        "# sns.set(style = \"darkgrid\")\n",
        "\n",
        "# fig = plt.figure()\n",
        "# ax = fig.add_subplot(111, projection = '3d')\n",
        "\n",
        "# x = hcv_pca['pca1']\n",
        "# y = hcv_pca['pca2']\n",
        "# z = hcv_pca['pca3']\n",
        "\n",
        "# ax.set_xlabel(\"pca1\")\n",
        "# ax.set_ylabel(\"pca2\")\n",
        "# ax.set_zlabel(\"pca3\")\n",
        "\n",
        "# ax.scatter(x, y, z)\n",
        "# plt.show()\n"
      ],
      "metadata": {
        "id": "LxTkijgev7Q_"
      },
      "execution_count": 226,
      "outputs": []
    }
  ]
}