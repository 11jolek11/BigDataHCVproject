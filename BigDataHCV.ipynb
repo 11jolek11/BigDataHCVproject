{
  "nbformat": 4,
  "nbformat_minor": 0,
  "metadata": {
    "colab": {
      "provenance": [],
      "mount_file_id": "https://github.com/11jolek11/BigDataHCVproject/blob/main/BigDataHCV.ipynb",
      "authorship_tag": "ABX9TyMng0ymXXj/Jkz2YKQ5DK46",
      "include_colab_link": true
    },
    "kernelspec": {
      "name": "python3",
      "display_name": "Python 3"
    },
    "language_info": {
      "name": "python"
    }
  },
  "cells": [
    {
      "cell_type": "markdown",
      "metadata": {
        "id": "view-in-github",
        "colab_type": "text"
      },
      "source": [
        "<a href=\"https://colab.research.google.com/github/11jolek11/BigDataHCVproject/blob/SMOTE/BigDataHCV.ipynb\" target=\"_parent\"><img src=\"https://colab.research.google.com/assets/colab-badge.svg\" alt=\"Open In Colab\"/></a>"
      ]
    },
    {
      "cell_type": "code",
      "execution_count": 181,
      "metadata": {
        "id": "YZ3QTzRCbILP",
        "outputId": "c9004255-b1fb-40bc-e5d1-29811f3b6b37",
        "colab": {
          "base_uri": "https://localhost:8080/",
          "height": 34
        }
      },
      "outputs": [
        {
          "output_type": "stream",
          "name": "stdout",
          "text": [
            "Warning: Cannot change to a different GUI toolkit: widget. Using notebook instead.\n"
          ]
        }
      ],
      "source": [
        "!pip install -q imbalanced-learn\n",
        "import matplotlib.pyplot as plt\n",
        "%matplotlib widget\n",
        "# /content/drive/MyDrive/Colab Notebooks/datasets/hcvdat0.csv"
      ]
    },
    {
      "cell_type": "code",
      "source": [
        "import pandas as pd\n",
        "import seaborn as sns\n",
        "import numpy as np\n",
        "import sklearn\n",
        "from sklearn.preprocessing import LabelEncoder, StandardScaler\n",
        "# TODO: KNN imputer może nie być najlepszym wyborem\n",
        "from sklearn.experimental import enable_iterative_imputer\n",
        "from sklearn.impute import KNNImputer, IterativeImputer\n",
        "from sklearn.discriminant_analysis import LinearDiscriminantAnalysis as LDA\n",
        "from sklearn.pipeline import Pipeline\n",
        "from sklearn.decomposition import PCA"
      ],
      "metadata": {
        "id": "D0ojxHF-i_7j"
      },
      "execution_count": 182,
      "outputs": []
    },
    {
      "cell_type": "code",
      "source": [
        "# hcv = pd.read_csv('/content/drive/MyDrive/Colab Notebooks/datasets/hcvdat0.csv', header=0)\n",
        "hcv = pd.read_csv('/content/drive/MyDrive/Colab Notebooks/datasets/hcvdat0.csv', header=0)\n",
        "hcv[hcv.isna().any(axis=1)]\n",
        "print()"
      ],
      "metadata": {
        "id": "Pe_Wjyf9lNdP",
        "outputId": "27abba79-f95f-4ede-c439-cc360c5ff703",
        "colab": {
          "base_uri": "https://localhost:8080/",
          "height": 34
        }
      },
      "execution_count": 183,
      "outputs": [
        {
          "output_type": "stream",
          "name": "stdout",
          "text": [
            "\n"
          ]
        }
      ]
    },
    {
      "cell_type": "code",
      "source": [
        "np.unique(hcv[\"Category\"])"
      ],
      "metadata": {
        "id": "WepggyWG3Buq",
        "outputId": "725899e4-fba1-4fae-cf15-dcefdbecb7ff",
        "colab": {
          "base_uri": "https://localhost:8080/",
          "height": 52
        }
      },
      "execution_count": 184,
      "outputs": [
        {
          "output_type": "execute_result",
          "data": {
            "text/plain": [
              "array(['0=Blood Donor', '0s=suspect Blood Donor', '1=Hepatitis',\n",
              "       '2=Fibrosis', '3=Cirrhosis'], dtype=object)"
            ]
          },
          "metadata": {},
          "execution_count": 184
        }
      ]
    },
    {
      "cell_type": "code",
      "source": [
        "hcv.replace('1=Hepatitis', '1=HCV', inplace=True)\n",
        "hcv.replace('2=Fibrosis', '1=HCV', inplace=True)\n",
        "hcv.replace('3=Cirrhosis', '1=HCV', inplace=True)"
      ],
      "metadata": {
        "id": "28o8ae5kBNwP"
      },
      "execution_count": 185,
      "outputs": []
    },
    {
      "cell_type": "code",
      "source": [
        "hcv[\"Category\"].value_counts()"
      ],
      "metadata": {
        "id": "yqXHuJ3SkIFq",
        "outputId": "5b7b4cca-7a25-417e-a723-d34884c421e9",
        "colab": {
          "base_uri": "https://localhost:8080/",
          "height": 86
        }
      },
      "execution_count": 186,
      "outputs": [
        {
          "output_type": "execute_result",
          "data": {
            "text/plain": [
              "0=Blood Donor             533\n",
              "1=HCV                      75\n",
              "0s=suspect Blood Donor      7\n",
              "Name: Category, dtype: int64"
            ]
          },
          "metadata": {},
          "execution_count": 186
        }
      ]
    },
    {
      "cell_type": "code",
      "source": [
        "indexes_to_delete = hcv.index[hcv[\"Category\"] == \"0=Blood Donor\"]\n",
        "drop_indices = np.random.choice(indexes_to_delete, 200, replace=False)\n",
        "hcv.drop(drop_indices, inplace=True)\n",
        "hcv.drop(hcv[hcv[\"Category\"] == '0s=suspect Blood Donor'].index, inplace=True)"
      ],
      "metadata": {
        "id": "TjAma6lEisno"
      },
      "execution_count": 190,
      "outputs": []
    },
    {
      "cell_type": "code",
      "source": [
        "hcv[\"Category\"].value_counts()"
      ],
      "metadata": {
        "id": "26MQt7o5kQ5j",
        "outputId": "7fdd17e0-68b3-44e3-b9ef-c0c611c75f13",
        "colab": {
          "base_uri": "https://localhost:8080/",
          "height": 69
        }
      },
      "execution_count": 191,
      "outputs": [
        {
          "output_type": "execute_result",
          "data": {
            "text/plain": [
              "0=Blood Donor    183\n",
              "1=HCV             75\n",
              "Name: Category, dtype: int64"
            ]
          },
          "metadata": {},
          "execution_count": 191
        }
      ]
    },
    {
      "cell_type": "code",
      "source": [
        "sns.countplot(x=hcv[\"Category\"])"
      ],
      "metadata": {
        "id": "syX6uX5pLLTh"
      },
      "execution_count": null,
      "outputs": []
    },
    {
      "cell_type": "code",
      "source": [
        "# sns.heatmap(hcv.corr(), annot=True, cmap='rainbow')"
      ],
      "metadata": {
        "id": "B-81O41Df0iz"
      },
      "execution_count": null,
      "outputs": []
    },
    {
      "cell_type": "code",
      "source": [
        "encoder = LabelEncoder()\n",
        "hcv[\"Sex\"] = encoder.fit_transform(hcv[\"Sex\"])\n",
        "hcv[\"Category\"] = encoder.fit_transform(hcv[\"Category\"])"
      ],
      "metadata": {
        "id": "y7A0cChtiY_c"
      },
      "execution_count": null,
      "outputs": []
    },
    {
      "cell_type": "code",
      "source": [
        "# imputer = KNNImputer(n_neighbors=5).set_output(transform=\"pandas\")\n",
        "imputer = IterativeImputer(max_iter=10, random_state=0).set_output(transform=\"pandas\")\n",
        "hcv = imputer.fit_transform(hcv)\n",
        "hcv[hcv.isna().any(axis=1)]"
      ],
      "metadata": {
        "id": "NnpH5TvThfPJ"
      },
      "execution_count": null,
      "outputs": []
    },
    {
      "cell_type": "code",
      "source": [
        "# sns.pairplot(data=hcv, hue=\"Category\")"
      ],
      "metadata": {
        "id": "dHf2YagaH2XL"
      },
      "execution_count": null,
      "outputs": []
    },
    {
      "cell_type": "code",
      "source": [
        "# sns.FacetGrid(hcv, hue = \"Category\").map(sns.distplot, \"GGT\").add_legend()"
      ],
      "metadata": {
        "id": "XQ6p2nOnLlfM"
      },
      "execution_count": null,
      "outputs": []
    },
    {
      "cell_type": "code",
      "source": [
        "# sns.FacetGrid(hcv, hue = \"Category\").map(sns.distplot, \"BIL\").add_legend()"
      ],
      "metadata": {
        "id": "0KYdCePtLejx"
      },
      "execution_count": null,
      "outputs": []
    },
    {
      "cell_type": "code",
      "source": [
        "# sns.displot(data=hcv, x=\"AST\", y=\"BIL\", kind=\"kde\", fill=True)"
      ],
      "metadata": {
        "id": "DdtU3TfUNWmW"
      },
      "execution_count": null,
      "outputs": []
    },
    {
      "cell_type": "code",
      "source": [
        "# sns.jointplot(data=hcv, x=\"PROT\", y=\"CHOL\", hue=\"Category\")"
      ],
      "metadata": {
        "id": "2mrJ-67PSGOm"
      },
      "execution_count": null,
      "outputs": []
    },
    {
      "cell_type": "code",
      "source": [
        "# sns.pairplot(data=hcv, hue=\"Category\")"
      ],
      "metadata": {
        "id": "TBCeuItjttbo"
      },
      "execution_count": null,
      "outputs": []
    },
    {
      "cell_type": "code",
      "source": [
        "hcv_target = hcv[\"Category\"]\n",
        "hcv.drop(columns=[\"Category\"], inplace=True)"
      ],
      "metadata": {
        "id": "xrBB4M6El1l8"
      },
      "execution_count": null,
      "outputs": []
    },
    {
      "cell_type": "code",
      "source": [
        "\n",
        "# pca_pipeline = Pipeline(\n",
        "#     [\n",
        "#       ('scaler', StandardScaler()),\n",
        "#       ('pca_dim_reduction', PCA(n_components=2)),\n",
        "#     ]\n",
        "# )\n",
        "\n",
        "# hcv_pca = pd.DataFrame(pca_pipeline.fit_transform(hcv), columns = ['pca1', 'pca2'])\n",
        "# sns.scatterplot(data=hcv_pca, x='pca1', y='pca2', hue=hcv_target)"
      ],
      "metadata": {
        "id": "j3byG5O5rfGo"
      },
      "execution_count": null,
      "outputs": []
    },
    {
      "cell_type": "code",
      "source": [
        "# from mpl_toolkits.mplot3d import Axes3D\n",
        "\n",
        "\n",
        "pca_pipeline = Pipeline(\n",
        "    [\n",
        "        # działa!!!!!!!!!!!!!!!!!!!!\n",
        "      ('scaler', StandardScaler()),\n",
        "      ('pca_dim_reduction', PCA(n_components=3)),\n",
        "    ]\n",
        ")\n",
        "\n",
        "hcv_pca = pd.DataFrame(pca_pipeline.fit_transform(hcv), columns = ['pca1', 'pca2', 'pca3'])\n",
        "# sns.scatterplot(data=hcv_pca, x='pca1', y='pca2', hue=hcv_target)\n",
        "\n",
        "# sns.set(style = \"darkgrid\")\n",
        "\n",
        "# fig = plt.figure()\n",
        "# ax = fig.add_subplot(111, projection = '3d')\n",
        "\n",
        "# x = hcv_pca['pca1']\n",
        "# y = hcv_pca['pca2']\n",
        "# z = hcv_pca['pca3']\n",
        "\n",
        "# ax.set_xlabel(\"pca1\")\n",
        "# ax.set_ylabel(\"pca2\")\n",
        "# ax.set_zlabel(\"pca3\")\n",
        "\n",
        "# ax.scatter(x, y, z)\n",
        "# plt.show()\n"
      ],
      "metadata": {
        "id": "LxTkijgev7Q_"
      },
      "execution_count": null,
      "outputs": []
    }
  ]
}