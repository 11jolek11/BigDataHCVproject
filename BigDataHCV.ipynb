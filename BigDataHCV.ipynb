{
  "nbformat": 4,
  "nbformat_minor": 0,
  "metadata": {
    "colab": {
      "provenance": [],
      "mount_file_id": "https://github.com/11jolek11/BigDataHCVproject/blob/main/BigDataHCV.ipynb",
      "authorship_tag": "ABX9TyPNgcragEhFo1lARVCaLqqB",
      "include_colab_link": true
    },
    "kernelspec": {
      "name": "python3",
      "display_name": "Python 3"
    },
    "language_info": {
      "name": "python"
    }
  },
  "cells": [
    {
      "cell_type": "markdown",
      "metadata": {
        "id": "view-in-github",
        "colab_type": "text"
      },
      "source": [
        "<a href=\"https://colab.research.google.com/github/11jolek11/BigDataHCVproject/blob/main/BigDataHCV.ipynb\" target=\"_parent\"><img src=\"https://colab.research.google.com/assets/colab-badge.svg\" alt=\"Open In Colab\"/></a>"
      ]
    },
    {
      "cell_type": "code",
      "execution_count": 127,
      "metadata": {
        "id": "YZ3QTzRCbILP"
      },
      "outputs": [],
      "source": [
        "# /content/drive/MyDrive/Colab Notebooks/datasets/hcvdat0.csv\n"
      ]
    },
    {
      "cell_type": "code",
      "source": [
        "import pandas as pd\n",
        "import seaborn as sns\n",
        "import numpy as np\n",
        "import sklearn\n",
        "from sklearn.preprocessing import LabelEncoder, StandardScaler\n",
        "from sklearn.impute import KNNImputer\n",
        "from sklearn.discriminant_analysis import LinearDiscriminantAnalysis as LDA\n",
        "from sklearn.pipeline import Pipeline\n",
        "from sklearn.decomposition import PCA\n"
      ],
      "metadata": {
        "id": "D0ojxHF-i_7j"
      },
      "execution_count": 128,
      "outputs": []
    },
    {
      "cell_type": "code",
      "source": [
        "# hcv = pd.read_csv('/content/drive/MyDrive/Colab Notebooks/datasets/hcvdat0.csv', header=0)\n",
        "hcv = pd.read_csv('/content/drive/MyDrive/Colab Notebooks/datasets/hcvdat0-synthetic1800.csv', header=0)\n",
        "hcv[hcv.isna().any(axis=1)]"
      ],
      "metadata": {
        "id": "Pe_Wjyf9lNdP",
        "outputId": "96ca6010-e76d-4388-c617-98c8b8942a1f",
        "colab": {
          "base_uri": "https://localhost:8080/",
          "height": 424
        }
      },
      "execution_count": 129,
      "outputs": [
        {
          "output_type": "execute_result",
          "data": {
            "text/plain": [
              "                    Category  Age Sex   ALB   ALP    ALT    AST   BIL    CHE  \\\n",
              "4              0=Blood Donor   43   m  49.3  51.7   28.0   22.1   7.4  13.80   \n",
              "5                1=Hepatitis   69   m  43.0  37.0    3.9  113.8  50.0   7.00   \n",
              "22             0=Blood Donor   55   m  48.3   NaN   69.2  135.4  23.8  13.71   \n",
              "50               3=Cirrhosis   42   f  24.9   NaN  102.2   90.3  12.0   5.65   \n",
              "62                2=Fibrosis   68   m  37.1   NaN    7.2   30.8  12.0   2.23   \n",
              "...                      ...  ...  ..   ...   ...    ...    ...   ...    ...   \n",
              "1742           0=Blood Donor   52   m  36.6  53.8    NaN   20.8   6.5   8.51   \n",
              "1752             3=Cirrhosis   48   m  49.0   NaN   24.2   64.0  40.0   8.50   \n",
              "1769             1=Hepatitis   55   m  29.0   NaN    2.4   36.7  33.3  13.56   \n",
              "1772  0s=suspect Blood Donor   59   m   NaN  67.6   20.5   83.6  12.0   9.13   \n",
              "1778           0=Blood Donor   40   m   NaN  27.3   56.0   68.0   7.7   4.29   \n",
              "\n",
              "      CHOL   CREA    GGT  PROT  \n",
              "4      NaN   86.0   19.7  63.2  \n",
              "5     3.98  136.1  144.2   NaN  \n",
              "22    4.47   71.0   31.1  69.1  \n",
              "50    4.10   71.0   61.1  69.5  \n",
              "62    3.01  105.0  128.2  82.0  \n",
              "...    ...    ...    ...   ...  \n",
              "1742  4.20   86.0   24.3  72.9  \n",
              "1752   NaN  118.2   23.8  81.0  \n",
              "1769  5.44   60.0   35.0  53.2  \n",
              "1772  4.86   70.0   70.0  70.4  \n",
              "1778  6.98   91.0   14.7  76.3  \n",
              "\n",
              "[91 rows x 13 columns]"
            ],
            "text/html": [
              "\n",
              "  <div id=\"df-c5a00691-44d4-40e0-8bd3-e6e3da2f5dfe\">\n",
              "    <div class=\"colab-df-container\">\n",
              "      <div>\n",
              "<style scoped>\n",
              "    .dataframe tbody tr th:only-of-type {\n",
              "        vertical-align: middle;\n",
              "    }\n",
              "\n",
              "    .dataframe tbody tr th {\n",
              "        vertical-align: top;\n",
              "    }\n",
              "\n",
              "    .dataframe thead th {\n",
              "        text-align: right;\n",
              "    }\n",
              "</style>\n",
              "<table border=\"1\" class=\"dataframe\">\n",
              "  <thead>\n",
              "    <tr style=\"text-align: right;\">\n",
              "      <th></th>\n",
              "      <th>Category</th>\n",
              "      <th>Age</th>\n",
              "      <th>Sex</th>\n",
              "      <th>ALB</th>\n",
              "      <th>ALP</th>\n",
              "      <th>ALT</th>\n",
              "      <th>AST</th>\n",
              "      <th>BIL</th>\n",
              "      <th>CHE</th>\n",
              "      <th>CHOL</th>\n",
              "      <th>CREA</th>\n",
              "      <th>GGT</th>\n",
              "      <th>PROT</th>\n",
              "    </tr>\n",
              "  </thead>\n",
              "  <tbody>\n",
              "    <tr>\n",
              "      <th>4</th>\n",
              "      <td>0=Blood Donor</td>\n",
              "      <td>43</td>\n",
              "      <td>m</td>\n",
              "      <td>49.3</td>\n",
              "      <td>51.7</td>\n",
              "      <td>28.0</td>\n",
              "      <td>22.1</td>\n",
              "      <td>7.4</td>\n",
              "      <td>13.80</td>\n",
              "      <td>NaN</td>\n",
              "      <td>86.0</td>\n",
              "      <td>19.7</td>\n",
              "      <td>63.2</td>\n",
              "    </tr>\n",
              "    <tr>\n",
              "      <th>5</th>\n",
              "      <td>1=Hepatitis</td>\n",
              "      <td>69</td>\n",
              "      <td>m</td>\n",
              "      <td>43.0</td>\n",
              "      <td>37.0</td>\n",
              "      <td>3.9</td>\n",
              "      <td>113.8</td>\n",
              "      <td>50.0</td>\n",
              "      <td>7.00</td>\n",
              "      <td>3.98</td>\n",
              "      <td>136.1</td>\n",
              "      <td>144.2</td>\n",
              "      <td>NaN</td>\n",
              "    </tr>\n",
              "    <tr>\n",
              "      <th>22</th>\n",
              "      <td>0=Blood Donor</td>\n",
              "      <td>55</td>\n",
              "      <td>m</td>\n",
              "      <td>48.3</td>\n",
              "      <td>NaN</td>\n",
              "      <td>69.2</td>\n",
              "      <td>135.4</td>\n",
              "      <td>23.8</td>\n",
              "      <td>13.71</td>\n",
              "      <td>4.47</td>\n",
              "      <td>71.0</td>\n",
              "      <td>31.1</td>\n",
              "      <td>69.1</td>\n",
              "    </tr>\n",
              "    <tr>\n",
              "      <th>50</th>\n",
              "      <td>3=Cirrhosis</td>\n",
              "      <td>42</td>\n",
              "      <td>f</td>\n",
              "      <td>24.9</td>\n",
              "      <td>NaN</td>\n",
              "      <td>102.2</td>\n",
              "      <td>90.3</td>\n",
              "      <td>12.0</td>\n",
              "      <td>5.65</td>\n",
              "      <td>4.10</td>\n",
              "      <td>71.0</td>\n",
              "      <td>61.1</td>\n",
              "      <td>69.5</td>\n",
              "    </tr>\n",
              "    <tr>\n",
              "      <th>62</th>\n",
              "      <td>2=Fibrosis</td>\n",
              "      <td>68</td>\n",
              "      <td>m</td>\n",
              "      <td>37.1</td>\n",
              "      <td>NaN</td>\n",
              "      <td>7.2</td>\n",
              "      <td>30.8</td>\n",
              "      <td>12.0</td>\n",
              "      <td>2.23</td>\n",
              "      <td>3.01</td>\n",
              "      <td>105.0</td>\n",
              "      <td>128.2</td>\n",
              "      <td>82.0</td>\n",
              "    </tr>\n",
              "    <tr>\n",
              "      <th>...</th>\n",
              "      <td>...</td>\n",
              "      <td>...</td>\n",
              "      <td>...</td>\n",
              "      <td>...</td>\n",
              "      <td>...</td>\n",
              "      <td>...</td>\n",
              "      <td>...</td>\n",
              "      <td>...</td>\n",
              "      <td>...</td>\n",
              "      <td>...</td>\n",
              "      <td>...</td>\n",
              "      <td>...</td>\n",
              "      <td>...</td>\n",
              "    </tr>\n",
              "    <tr>\n",
              "      <th>1742</th>\n",
              "      <td>0=Blood Donor</td>\n",
              "      <td>52</td>\n",
              "      <td>m</td>\n",
              "      <td>36.6</td>\n",
              "      <td>53.8</td>\n",
              "      <td>NaN</td>\n",
              "      <td>20.8</td>\n",
              "      <td>6.5</td>\n",
              "      <td>8.51</td>\n",
              "      <td>4.20</td>\n",
              "      <td>86.0</td>\n",
              "      <td>24.3</td>\n",
              "      <td>72.9</td>\n",
              "    </tr>\n",
              "    <tr>\n",
              "      <th>1752</th>\n",
              "      <td>3=Cirrhosis</td>\n",
              "      <td>48</td>\n",
              "      <td>m</td>\n",
              "      <td>49.0</td>\n",
              "      <td>NaN</td>\n",
              "      <td>24.2</td>\n",
              "      <td>64.0</td>\n",
              "      <td>40.0</td>\n",
              "      <td>8.50</td>\n",
              "      <td>NaN</td>\n",
              "      <td>118.2</td>\n",
              "      <td>23.8</td>\n",
              "      <td>81.0</td>\n",
              "    </tr>\n",
              "    <tr>\n",
              "      <th>1769</th>\n",
              "      <td>1=Hepatitis</td>\n",
              "      <td>55</td>\n",
              "      <td>m</td>\n",
              "      <td>29.0</td>\n",
              "      <td>NaN</td>\n",
              "      <td>2.4</td>\n",
              "      <td>36.7</td>\n",
              "      <td>33.3</td>\n",
              "      <td>13.56</td>\n",
              "      <td>5.44</td>\n",
              "      <td>60.0</td>\n",
              "      <td>35.0</td>\n",
              "      <td>53.2</td>\n",
              "    </tr>\n",
              "    <tr>\n",
              "      <th>1772</th>\n",
              "      <td>0s=suspect Blood Donor</td>\n",
              "      <td>59</td>\n",
              "      <td>m</td>\n",
              "      <td>NaN</td>\n",
              "      <td>67.6</td>\n",
              "      <td>20.5</td>\n",
              "      <td>83.6</td>\n",
              "      <td>12.0</td>\n",
              "      <td>9.13</td>\n",
              "      <td>4.86</td>\n",
              "      <td>70.0</td>\n",
              "      <td>70.0</td>\n",
              "      <td>70.4</td>\n",
              "    </tr>\n",
              "    <tr>\n",
              "      <th>1778</th>\n",
              "      <td>0=Blood Donor</td>\n",
              "      <td>40</td>\n",
              "      <td>m</td>\n",
              "      <td>NaN</td>\n",
              "      <td>27.3</td>\n",
              "      <td>56.0</td>\n",
              "      <td>68.0</td>\n",
              "      <td>7.7</td>\n",
              "      <td>4.29</td>\n",
              "      <td>6.98</td>\n",
              "      <td>91.0</td>\n",
              "      <td>14.7</td>\n",
              "      <td>76.3</td>\n",
              "    </tr>\n",
              "  </tbody>\n",
              "</table>\n",
              "<p>91 rows × 13 columns</p>\n",
              "</div>\n",
              "      <button class=\"colab-df-convert\" onclick=\"convertToInteractive('df-c5a00691-44d4-40e0-8bd3-e6e3da2f5dfe')\"\n",
              "              title=\"Convert this dataframe to an interactive table.\"\n",
              "              style=\"display:none;\">\n",
              "        \n",
              "  <svg xmlns=\"http://www.w3.org/2000/svg\" height=\"24px\"viewBox=\"0 0 24 24\"\n",
              "       width=\"24px\">\n",
              "    <path d=\"M0 0h24v24H0V0z\" fill=\"none\"/>\n",
              "    <path d=\"M18.56 5.44l.94 2.06.94-2.06 2.06-.94-2.06-.94-.94-2.06-.94 2.06-2.06.94zm-11 1L8.5 8.5l.94-2.06 2.06-.94-2.06-.94L8.5 2.5l-.94 2.06-2.06.94zm10 10l.94 2.06.94-2.06 2.06-.94-2.06-.94-.94-2.06-.94 2.06-2.06.94z\"/><path d=\"M17.41 7.96l-1.37-1.37c-.4-.4-.92-.59-1.43-.59-.52 0-1.04.2-1.43.59L10.3 9.45l-7.72 7.72c-.78.78-.78 2.05 0 2.83L4 21.41c.39.39.9.59 1.41.59.51 0 1.02-.2 1.41-.59l7.78-7.78 2.81-2.81c.8-.78.8-2.07 0-2.86zM5.41 20L4 18.59l7.72-7.72 1.47 1.35L5.41 20z\"/>\n",
              "  </svg>\n",
              "      </button>\n",
              "      \n",
              "  <style>\n",
              "    .colab-df-container {\n",
              "      display:flex;\n",
              "      flex-wrap:wrap;\n",
              "      gap: 12px;\n",
              "    }\n",
              "\n",
              "    .colab-df-convert {\n",
              "      background-color: #E8F0FE;\n",
              "      border: none;\n",
              "      border-radius: 50%;\n",
              "      cursor: pointer;\n",
              "      display: none;\n",
              "      fill: #1967D2;\n",
              "      height: 32px;\n",
              "      padding: 0 0 0 0;\n",
              "      width: 32px;\n",
              "    }\n",
              "\n",
              "    .colab-df-convert:hover {\n",
              "      background-color: #E2EBFA;\n",
              "      box-shadow: 0px 1px 2px rgba(60, 64, 67, 0.3), 0px 1px 3px 1px rgba(60, 64, 67, 0.15);\n",
              "      fill: #174EA6;\n",
              "    }\n",
              "\n",
              "    [theme=dark] .colab-df-convert {\n",
              "      background-color: #3B4455;\n",
              "      fill: #D2E3FC;\n",
              "    }\n",
              "\n",
              "    [theme=dark] .colab-df-convert:hover {\n",
              "      background-color: #434B5C;\n",
              "      box-shadow: 0px 1px 3px 1px rgba(0, 0, 0, 0.15);\n",
              "      filter: drop-shadow(0px 1px 2px rgba(0, 0, 0, 0.3));\n",
              "      fill: #FFFFFF;\n",
              "    }\n",
              "  </style>\n",
              "\n",
              "      <script>\n",
              "        const buttonEl =\n",
              "          document.querySelector('#df-c5a00691-44d4-40e0-8bd3-e6e3da2f5dfe button.colab-df-convert');\n",
              "        buttonEl.style.display =\n",
              "          google.colab.kernel.accessAllowed ? 'block' : 'none';\n",
              "\n",
              "        async function convertToInteractive(key) {\n",
              "          const element = document.querySelector('#df-c5a00691-44d4-40e0-8bd3-e6e3da2f5dfe');\n",
              "          const dataTable =\n",
              "            await google.colab.kernel.invokeFunction('convertToInteractive',\n",
              "                                                     [key], {});\n",
              "          if (!dataTable) return;\n",
              "\n",
              "          const docLinkHtml = 'Like what you see? Visit the ' +\n",
              "            '<a target=\"_blank\" href=https://colab.research.google.com/notebooks/data_table.ipynb>data table notebook</a>'\n",
              "            + ' to learn more about interactive tables.';\n",
              "          element.innerHTML = '';\n",
              "          dataTable['output_type'] = 'display_data';\n",
              "          await google.colab.output.renderOutput(dataTable, element);\n",
              "          const docLink = document.createElement('div');\n",
              "          docLink.innerHTML = docLinkHtml;\n",
              "          element.appendChild(docLink);\n",
              "        }\n",
              "      </script>\n",
              "    </div>\n",
              "  </div>\n",
              "  "
            ]
          },
          "metadata": {},
          "execution_count": 129
        }
      ]
    },
    {
      "cell_type": "code",
      "source": [
        "hcv[\"Category\"].value_counts()"
      ],
      "metadata": {
        "id": "yqXHuJ3SkIFq",
        "outputId": "c91007ae-bf8d-4f0a-fe28-c71e0067a73b",
        "colab": {
          "base_uri": "https://localhost:8080/"
        }
      },
      "execution_count": 130,
      "outputs": [
        {
          "output_type": "execute_result",
          "data": {
            "text/plain": [
              "0=Blood Donor             1501\n",
              "3=Cirrhosis                103\n",
              "2=Fibrosis                  80\n",
              "1=Hepatitis                 78\n",
              "0s=suspect Blood Donor      38\n",
              "Name: Category, dtype: int64"
            ]
          },
          "metadata": {},
          "execution_count": 130
        }
      ]
    },
    {
      "cell_type": "code",
      "source": [
        "indexes_to_delete = hcv.index[hcv[\"Category\"] == \"0=Blood Donor\"]\n",
        "drop_indices = np.random.choice(indexes_to_delete, 1200, replace=False)\n",
        "hcv.drop(drop_indices, inplace=True)"
      ],
      "metadata": {
        "id": "TjAma6lEisno"
      },
      "execution_count": 131,
      "outputs": []
    },
    {
      "cell_type": "code",
      "source": [
        "hcv[\"Category\"].value_counts()"
      ],
      "metadata": {
        "id": "26MQt7o5kQ5j",
        "outputId": "10e41738-d49e-4677-e79a-40bbdfee5e27",
        "colab": {
          "base_uri": "https://localhost:8080/"
        }
      },
      "execution_count": 132,
      "outputs": [
        {
          "output_type": "execute_result",
          "data": {
            "text/plain": [
              "0=Blood Donor             301\n",
              "3=Cirrhosis               103\n",
              "2=Fibrosis                 80\n",
              "1=Hepatitis                78\n",
              "0s=suspect Blood Donor     38\n",
              "Name: Category, dtype: int64"
            ]
          },
          "metadata": {},
          "execution_count": 132
        }
      ]
    },
    {
      "cell_type": "code",
      "source": [
        "sns.countplot(x=hcv[\"Category\"])"
      ],
      "metadata": {
        "id": "syX6uX5pLLTh",
        "outputId": "be1f11d1-9fa2-4982-8b2e-d52a8a8053ba",
        "colab": {
          "base_uri": "https://localhost:8080/",
          "height": 466
        }
      },
      "execution_count": 133,
      "outputs": [
        {
          "output_type": "execute_result",
          "data": {
            "text/plain": [
              "<Axes: xlabel='Category', ylabel='count'>"
            ]
          },
          "metadata": {},
          "execution_count": 133
        },
        {
          "output_type": "display_data",
          "data": {
            "text/plain": [
              "<Figure size 640x480 with 1 Axes>"
            ],
            "image/png": "[encoded data removed]"
          },
          "metadata": {}
        }
      ]
    },
    {
      "cell_type": "code",
      "source": [
        "sns.heatmap(hcv.corr(), annot=True, cmap='rainbow')\n",
        "# ALP CHOL"
      ],
      "metadata": {
        "id": "B-81O41Df0iz"
      },
      "execution_count": null,
      "outputs": []
    },
    {
      "cell_type": "code",
      "source": [
        "encoder = LabelEncoder()\n",
        "hcv[\"Sex\"] = encoder.fit_transform(hcv[\"Sex\"])\n",
        "hcv[\"Category\"] = encoder.fit_transform(hcv[\"Category\"])"
      ],
      "metadata": {
        "id": "y7A0cChtiY_c"
      },
      "execution_count": 135,
      "outputs": []
    },
    {
      "cell_type": "code",
      "source": [
        "imputer = KNNImputer(n_neighbors=5).set_output(transform=\"pandas\")\n",
        "hcv = imputer.fit_transform(hcv)\n",
        "hcv[hcv.isna().any(axis=1)]"
      ],
      "metadata": {
        "colab": {
          "base_uri": "https://localhost:8080/",
          "height": 49
        },
        "id": "NnpH5TvThfPJ",
        "outputId": "8a4ef908-6e03-48af-de7d-7b11406f0d9b"
      },
      "execution_count": 136,
      "outputs": [
        {
          "output_type": "execute_result",
          "data": {
            "text/plain": [
              "Empty DataFrame\n",
              "Columns: [Category, Age, Sex, ALB, ALP, ALT, AST, BIL, CHE, CHOL, CREA, GGT, PROT]\n",
              "Index: []"
            ],
            "text/html": [
              "\n",
              "  <div id=\"df-cf4ec315-1ad2-4f04-9ec8-10756f743b89\">\n",
              "    <div class=\"colab-df-container\">\n",
              "      <div>\n",
              "<style scoped>\n",
              "    .dataframe tbody tr th:only-of-type {\n",
              "        vertical-align: middle;\n",
              "    }\n",
              "\n",
              "    .dataframe tbody tr th {\n",
              "        vertical-align: top;\n",
              "    }\n",
              "\n",
              "    .dataframe thead th {\n",
              "        text-align: right;\n",
              "    }\n",
              "</style>\n",
              "<table border=\"1\" class=\"dataframe\">\n",
              "  <thead>\n",
              "    <tr style=\"text-align: right;\">\n",
              "      <th></th>\n",
              "      <th>Category</th>\n",
              "      <th>Age</th>\n",
              "      <th>Sex</th>\n",
              "      <th>ALB</th>\n",
              "      <th>ALP</th>\n",
              "      <th>ALT</th>\n",
              "      <th>AST</th>\n",
              "      <th>BIL</th>\n",
              "      <th>CHE</th>\n",
              "      <th>CHOL</th>\n",
              "      <th>CREA</th>\n",
              "      <th>GGT</th>\n",
              "      <th>PROT</th>\n",
              "    </tr>\n",
              "  </thead>\n",
              "  <tbody>\n",
              "  </tbody>\n",
              "</table>\n",
              "</div>\n",
              "      <button class=\"colab-df-convert\" onclick=\"convertToInteractive('df-cf4ec315-1ad2-4f04-9ec8-10756f743b89')\"\n",
              "              title=\"Convert this dataframe to an interactive table.\"\n",
              "              style=\"display:none;\">\n",
              "        \n",
              "  <svg xmlns=\"http://www.w3.org/2000/svg\" height=\"24px\"viewBox=\"0 0 24 24\"\n",
              "       width=\"24px\">\n",
              "    <path d=\"M0 0h24v24H0V0z\" fill=\"none\"/>\n",
              "    <path d=\"M18.56 5.44l.94 2.06.94-2.06 2.06-.94-2.06-.94-.94-2.06-.94 2.06-2.06.94zm-11 1L8.5 8.5l.94-2.06 2.06-.94-2.06-.94L8.5 2.5l-.94 2.06-2.06.94zm10 10l.94 2.06.94-2.06 2.06-.94-2.06-.94-.94-2.06-.94 2.06-2.06.94z\"/><path d=\"M17.41 7.96l-1.37-1.37c-.4-.4-.92-.59-1.43-.59-.52 0-1.04.2-1.43.59L10.3 9.45l-7.72 7.72c-.78.78-.78 2.05 0 2.83L4 21.41c.39.39.9.59 1.41.59.51 0 1.02-.2 1.41-.59l7.78-7.78 2.81-2.81c.8-.78.8-2.07 0-2.86zM5.41 20L4 18.59l7.72-7.72 1.47 1.35L5.41 20z\"/>\n",
              "  </svg>\n",
              "      </button>\n",
              "      \n",
              "  <style>\n",
              "    .colab-df-container {\n",
              "      display:flex;\n",
              "      flex-wrap:wrap;\n",
              "      gap: 12px;\n",
              "    }\n",
              "\n",
              "    .colab-df-convert {\n",
              "      background-color: #E8F0FE;\n",
              "      border: none;\n",
              "      border-radius: 50%;\n",
              "      cursor: pointer;\n",
              "      display: none;\n",
              "      fill: #1967D2;\n",
              "      height: 32px;\n",
              "      padding: 0 0 0 0;\n",
              "      width: 32px;\n",
              "    }\n",
              "\n",
              "    .colab-df-convert:hover {\n",
              "      background-color: #E2EBFA;\n",
              "      box-shadow: 0px 1px 2px rgba(60, 64, 67, 0.3), 0px 1px 3px 1px rgba(60, 64, 67, 0.15);\n",
              "      fill: #174EA6;\n",
              "    }\n",
              "\n",
              "    [theme=dark] .colab-df-convert {\n",
              "      background-color: #3B4455;\n",
              "      fill: #D2E3FC;\n",
              "    }\n",
              "\n",
              "    [theme=dark] .colab-df-convert:hover {\n",
              "      background-color: #434B5C;\n",
              "      box-shadow: 0px 1px 3px 1px rgba(0, 0, 0, 0.15);\n",
              "      filter: drop-shadow(0px 1px 2px rgba(0, 0, 0, 0.3));\n",
              "      fill: #FFFFFF;\n",
              "    }\n",
              "  </style>\n",
              "\n",
              "      <script>\n",
              "        const buttonEl =\n",
              "          document.querySelector('#df-cf4ec315-1ad2-4f04-9ec8-10756f743b89 button.colab-df-convert');\n",
              "        buttonEl.style.display =\n",
              "          google.colab.kernel.accessAllowed ? 'block' : 'none';\n",
              "\n",
              "        async function convertToInteractive(key) {\n",
              "          const element = document.querySelector('#df-cf4ec315-1ad2-4f04-9ec8-10756f743b89');\n",
              "          const dataTable =\n",
              "            await google.colab.kernel.invokeFunction('convertToInteractive',\n",
              "                                                     [key], {});\n",
              "          if (!dataTable) return;\n",
              "\n",
              "          const docLinkHtml = 'Like what you see? Visit the ' +\n",
              "            '<a target=\"_blank\" href=https://colab.research.google.com/notebooks/data_table.ipynb>data table notebook</a>'\n",
              "            + ' to learn more about interactive tables.';\n",
              "          element.innerHTML = '';\n",
              "          dataTable['output_type'] = 'display_data';\n",
              "          await google.colab.output.renderOutput(dataTable, element);\n",
              "          const docLink = document.createElement('div');\n",
              "          docLink.innerHTML = docLinkHtml;\n",
              "          element.appendChild(docLink);\n",
              "        }\n",
              "      </script>\n",
              "    </div>\n",
              "  </div>\n",
              "  "
            ]
          },
          "metadata": {},
          "execution_count": 136
        }
      ]
    },
    {
      "cell_type": "code",
      "source": [
        "# sns.violinplot(x = 'Category', y = 'Age', data = hcv)\n",
        "sns.FacetGrid(hcv, hue = \"Category\").map(sns.distplot, \"Age\").add_legend()"
      ],
      "metadata": {
        "id": "t8C7iofHyw_0"
      },
      "execution_count": null,
      "outputs": []
    },
    {
      "cell_type": "code",
      "source": [
        "# sns.pairplot(data=hcv, hue=\"Category\")"
      ],
      "metadata": {
        "id": "TBCeuItjttbo"
      },
      "execution_count": null,
      "outputs": []
    },
    {
      "cell_type": "code",
      "source": [
        "# hcv_target = hcv[\"Category\"]\n",
        "# hcv.drop(columns=[\"Category\"], inplace=True)\n",
        "# hcv[\"Category\"] = hcv_target\n",
        "# sns.pairplot(hcv, hue=\"Category\")\n",
        "# hcv.drop(columns=[\"Category\"], inplace=True)"
      ],
      "metadata": {
        "id": "xrBB4M6El1l8"
      },
      "execution_count": 137,
      "outputs": []
    },
    {
      "cell_type": "code",
      "source": [
        "# lda = LDA(n_components=2)\n",
        "# hcv_lda = pd.DataFrame(lda.fit_transform(hcv, hcv_target), columns=['lda1', 'lda2'])\n",
        "# sns.scatterplot(data=hcv_lda, x='lda2', y='lda1', hue=hcv_target)"
      ],
      "metadata": {
        "id": "lgh9uJrYrBAo"
      },
      "execution_count": 138,
      "outputs": []
    },
    {
      "cell_type": "code",
      "source": [
        "\n",
        "# pca_pipeline = Pipeline(\n",
        "#     [\n",
        "#       ('scaler', StandardScaler()),\n",
        "#       ('pca_dim_reduction', PCA(n_components=2)),\n",
        "#     ]\n",
        "# )\n",
        "\n",
        "# hcv_pca = pd.DataFrame(pca_pipeline.fit_transform(hcv), columns = ['pca1', 'pca2'])\n",
        "# sns.scatterplot(data=hcv_pca, x='pca1', y='pca2', hue=hcv_target)"
      ],
      "metadata": {
        "id": "j3byG5O5rfGo"
      },
      "execution_count": 139,
      "outputs": []
    }
  ]
}